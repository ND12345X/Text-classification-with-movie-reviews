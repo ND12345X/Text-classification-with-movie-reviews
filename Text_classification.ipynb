{
  "nbformat": 4,
  "nbformat_minor": 0,
  "metadata": {
    "colab": {
      "name": "Copy of basic-text-classification.ipynb",
      "version": "0.3.2",
      "provenance": [],
      "collapsed_sections": [],
      "toc_visible": true,
      "include_colab_link": true
    },
    "kernelspec": {
      "name": "python3",
      "display_name": "Python 3"
    },
    "accelerator": "GPU"
  },
  "cells": [
    {
      "cell_type": "markdown",
      "metadata": {
        "id": "view-in-github",
        "colab_type": "text"
      },
      "source": [
        "<a href=\"https://colab.research.google.com/github/R1SkY-X/Text-classification-with-movie-reviews/blob/master/Text_classification.ipynb\" target=\"_parent\"><img src=\"https://colab.research.google.com/assets/colab-badge.svg\" alt=\"Open In Colab\"/></a>"
      ]
    },
    {
      "metadata": {
        "id": "ItXfxkxvosLH",
        "colab_type": "text"
      },
      "cell_type": "markdown",
      "source": [
        "# Text classification with movie reviews"
      ]
    },
    {
      "metadata": {
        "id": "hKY4XMc9o8iB",
        "colab_type": "text"
      },
      "cell_type": "markdown",
      "source": [
        "<table class=\"tfo-notebook-buttons\" align=\"left\">\n",
        "  <td>\n",
        "    <a target=\"_blank\" href=\"https://www.tensorflow.org/tutorials/keras/basic_text_classification\"><img src=\"https://www.tensorflow.org/images/tf_logo_32px.png\" />View on TensorFlow.org</a>\n",
        "  </td>\n",
        "  <td>\n",
        "    <a target=\"_blank\" href=\"https://colab.research.google.com/github/tensorflow/docs/blob/master/site/en/tutorials/keras/basic_text_classification.ipynb\"><img src=\"https://www.tensorflow.org/images/colab_logo_32px.png\" />Run in Google Colab</a>\n",
        "  </td>\n",
        "  <td>\n",
        "    <a target=\"_blank\" href=\"https://github.com/tensorflow/docs/blob/master/site/en/tutorials/keras/basic_text_classification.ipynb\"><img src=\"https://www.tensorflow.org/images/GitHub-Mark-32px.png\" />View source on GitHub</a>\n",
        "  </td>\n",
        "</table>"
      ]
    },
    {
      "metadata": {
        "id": "2ew7HTbPpCJH",
        "colab_type": "code",
        "colab": {
          "base_uri": "https://localhost:8080/",
          "height": 35
        },
        "outputId": "4586255f-cbd5-4421-dd08-c24d2dd6d2f2"
      },
      "cell_type": "code",
      "source": [
        "from __future__ import absolute_import, division, print_function\n",
        "\n",
        "import tensorflow as tf\n",
        "from tensorflow import keras\n",
        "\n",
        "import numpy as np\n",
        "\n",
        "print(tf.__version__)"
      ],
      "execution_count": 1,
      "outputs": [
        {
          "output_type": "stream",
          "text": [
            "1.12.0\n"
          ],
          "name": "stdout"
        }
      ]
    },
    {
      "metadata": {
        "id": "zXXx5Oc3pOmN",
        "colab_type": "code",
        "colab": {}
      },
      "cell_type": "code",
      "source": [
        "imdb = keras.datasets.imdb\n",
        "\n",
        "(train_data, train_labels), (test_data, test_labels) = imdb.load_data(num_words=10000)"
      ],
      "execution_count": 0,
      "outputs": []
    },
    {
      "metadata": {
        "id": "y8qCnve_-lkO",
        "colab_type": "code",
        "colab": {
          "base_uri": "https://localhost:8080/",
          "height": 35
        },
        "outputId": "e91f81f3-509b-4d47-8d2e-a92c509ae9d2"
      },
      "cell_type": "code",
      "source": [
        "print(\"Training entries: {}, labels: {}\".format(len(train_data), len(train_labels)))"
      ],
      "execution_count": 3,
      "outputs": [
        {
          "output_type": "stream",
          "text": [
            "Training entries: 25000, labels: 25000\n"
          ],
          "name": "stdout"
        }
      ]
    },
    {
      "metadata": {
        "id": "QtTS4kpEpjbi",
        "colab_type": "code",
        "colab": {
          "base_uri": "https://localhost:8080/",
          "height": 35
        },
        "outputId": "5d2f5ab3-13e6-4e6e-c6ac-e5691447a732"
      },
      "cell_type": "code",
      "source": [
        "print(train_data.shape)"
      ],
      "execution_count": 4,
      "outputs": [
        {
          "output_type": "stream",
          "text": [
            "(25000,)\n"
          ],
          "name": "stdout"
        }
      ]
    },
    {
      "metadata": {
        "id": "X-6Ii9Pfx6Nr",
        "colab_type": "code",
        "colab": {
          "base_uri": "https://localhost:8080/",
          "height": 35
        },
        "outputId": "5044346d-9b9f-40be-fc2f-aa9e1b617375"
      },
      "cell_type": "code",
      "source": [
        "len(train_data[0]), len(train_data[1])"
      ],
      "execution_count": 5,
      "outputs": [
        {
          "output_type": "execute_result",
          "data": {
            "text/plain": [
              "(218, 189)"
            ]
          },
          "metadata": {
            "tags": []
          },
          "execution_count": 5
        }
      ]
    },
    {
      "metadata": {
        "id": "tr5s_1alpzop",
        "colab_type": "code",
        "colab": {}
      },
      "cell_type": "code",
      "source": [
        "\n",
        "word_index = imdb.get_word_index()\n",
        "\n",
        "word_index = {k:(v+3) for k,v in word_index.items()} \n",
        "word_index[\"<PAD>\"] = 0\n",
        "word_index[\"<START>\"] = 1\n",
        "word_index[\"<UNK>\"] = 2  # unknown\n",
        "word_index[\"<UNUSED>\"] = 3\n",
        "\n",
        "reverse_word_index = dict([(value, key) for (key, value) in word_index.items()])\n",
        "\n",
        "def decode_review(text):\n",
        "    return ' '.join([reverse_word_index.get(i, '?') for i in text])"
      ],
      "execution_count": 0,
      "outputs": []
    },
    {
      "metadata": {
        "id": "s_OqxmH6-lkn",
        "colab_type": "code",
        "colab": {
          "base_uri": "https://localhost:8080/",
          "height": 55
        },
        "outputId": "c3acbc54-5254-4193-ce26-fd400d2c7f2f"
      },
      "cell_type": "code",
      "source": [
        "decode_review(train_data[4])"
      ],
      "execution_count": 7,
      "outputs": [
        {
          "output_type": "execute_result",
          "data": {
            "text/plain": [
              "\"<START> worst mistake of my life br br i picked this movie up at target for 5 because i figured hey it's sandler i can get some cheap laughs i was wrong completely wrong mid way through the film all three of my friends were asleep and i was still suffering worst plot worst script worst movie i have ever seen i wanted to hit my head up against a wall for an hour then i'd stop and you know why because it felt damn good upon bashing my head in i stuck that damn movie in the <UNK> and watched it burn and that felt better than anything else i've ever done it took american psycho army of darkness and kill bill just to get over that crap i hate you sandler for actually going through with this and ruining a whole day of my life\""
            ]
          },
          "metadata": {
            "tags": []
          },
          "execution_count": 7
        }
      ]
    },
    {
      "metadata": {
        "id": "2jQv-omsHurp",
        "colab_type": "code",
        "colab": {}
      },
      "cell_type": "code",
      "source": [
        "train_data = keras.preprocessing.sequence.pad_sequences(train_data,\n",
        "                                                        value=word_index[\"<PAD>\"],\n",
        "                                                        padding='post',\n",
        "                                                        maxlen=256)\n",
        "\n",
        "test_data = keras.preprocessing.sequence.pad_sequences(test_data,\n",
        "                                                       value=word_index[\"<PAD>\"],\n",
        "                                                       padding='post',\n",
        "                                                       maxlen=256)"
      ],
      "execution_count": 0,
      "outputs": []
    },
    {
      "metadata": {
        "id": "USSSBnkE-lky",
        "colab_type": "code",
        "colab": {
          "base_uri": "https://localhost:8080/",
          "height": 35
        },
        "outputId": "b3278a3d-94c7-4864-e5d6-54c529031d01"
      },
      "cell_type": "code",
      "source": [
        "len(train_data[0]), len(train_data[1])"
      ],
      "execution_count": 9,
      "outputs": [
        {
          "output_type": "execute_result",
          "data": {
            "text/plain": [
              "(256, 256)"
            ]
          },
          "metadata": {
            "tags": []
          },
          "execution_count": 9
        }
      ]
    },
    {
      "metadata": {
        "id": "TG8X9cqi-lk9",
        "colab_type": "code",
        "colab": {
          "base_uri": "https://localhost:8080/",
          "height": 363
        },
        "outputId": "d955c422-cbea-4e99-874f-2a4c61e2bbdf"
      },
      "cell_type": "code",
      "source": [
        "print(train_data[0])"
      ],
      "execution_count": 10,
      "outputs": [
        {
          "output_type": "stream",
          "text": [
            "[   1   14   22   16   43  530  973 1622 1385   65  458 4468   66 3941\n",
            "    4  173   36  256    5   25  100   43  838  112   50  670    2    9\n",
            "   35  480  284    5  150    4  172  112  167    2  336  385   39    4\n",
            "  172 4536 1111   17  546   38   13  447    4  192   50   16    6  147\n",
            " 2025   19   14   22    4 1920 4613  469    4   22   71   87   12   16\n",
            "   43  530   38   76   15   13 1247    4   22   17  515   17   12   16\n",
            "  626   18    2    5   62  386   12    8  316    8  106    5    4 2223\n",
            " 5244   16  480   66 3785   33    4  130   12   16   38  619    5   25\n",
            "  124   51   36  135   48   25 1415   33    6   22   12  215   28   77\n",
            "   52    5   14  407   16   82    2    8    4  107  117 5952   15  256\n",
            "    4    2    7 3766    5  723   36   71   43  530  476   26  400  317\n",
            "   46    7    4    2 1029   13  104   88    4  381   15  297   98   32\n",
            " 2071   56   26  141    6  194 7486   18    4  226   22   21  134  476\n",
            "   26  480    5  144   30 5535   18   51   36   28  224   92   25  104\n",
            "    4  226   65   16   38 1334   88   12   16  283    5   16 4472  113\n",
            "  103   32   15   16 5345   19  178   32    0    0    0    0    0    0\n",
            "    0    0    0    0    0    0    0    0    0    0    0    0    0    0\n",
            "    0    0    0    0    0    0    0    0    0    0    0    0    0    0\n",
            "    0    0    0    0]\n"
          ],
          "name": "stdout"
        }
      ]
    },
    {
      "metadata": {
        "id": "xpKOoWgu-llD",
        "colab_type": "code",
        "colab": {
          "base_uri": "https://localhost:8080/",
          "height": 290
        },
        "outputId": "d8f7f8e0-be1c-41b5-9cc1-ee2825939bad"
      },
      "cell_type": "code",
      "source": [
        "# input shape is the vocabulary count used for the movie reviews (10,000 words)\n",
        "vocab_size = 10000\n",
        "\n",
        "model = keras.Sequential()\n",
        "model.add(keras.layers.Embedding(vocab_size, 16))\n",
        "model.add(keras.layers.GlobalAveragePooling1D())\n",
        "model.add(keras.layers.Dense(16, activation=tf.nn.relu))\n",
        "model.add(keras.layers.Dense(1, activation=tf.nn.sigmoid))\n",
        "\n",
        "model.summary()"
      ],
      "execution_count": 11,
      "outputs": [
        {
          "output_type": "stream",
          "text": [
            "_________________________________________________________________\n",
            "Layer (type)                 Output Shape              Param #   \n",
            "=================================================================\n",
            "embedding (Embedding)        (None, None, 16)          160000    \n",
            "_________________________________________________________________\n",
            "global_average_pooling1d (Gl (None, 16)                0         \n",
            "_________________________________________________________________\n",
            "dense (Dense)                (None, 16)                272       \n",
            "_________________________________________________________________\n",
            "dense_1 (Dense)              (None, 1)                 17        \n",
            "=================================================================\n",
            "Total params: 160,289\n",
            "Trainable params: 160,289\n",
            "Non-trainable params: 0\n",
            "_________________________________________________________________\n"
          ],
          "name": "stdout"
        }
      ]
    },
    {
      "metadata": {
        "id": "Mr0GP-cQ-llN",
        "colab_type": "code",
        "colab": {}
      },
      "cell_type": "code",
      "source": [
        "model.compile(optimizer='adam',\n",
        "              loss='binary_crossentropy',\n",
        "              metrics=['accuracy'])"
      ],
      "execution_count": 0,
      "outputs": []
    },
    {
      "metadata": {
        "id": "-NpcXY9--llS",
        "colab_type": "code",
        "colab": {}
      },
      "cell_type": "code",
      "source": [
        "x_val = train_data[:10000]\n",
        "partial_x_train = train_data[10000:]\n",
        "\n",
        "y_val = train_labels[:10000]\n",
        "partial_y_train = train_labels[10000:]"
      ],
      "execution_count": 0,
      "outputs": []
    },
    {
      "metadata": {
        "id": "tXSGrjWZ-llW",
        "colab_type": "code",
        "colab": {
          "base_uri": "https://localhost:8080/",
          "height": 1546
        },
        "outputId": "c018773e-3ac4-4b58-ce5a-d5aa7961f9b4"
      },
      "cell_type": "code",
      "source": [
        "history = model.fit(partial_x_train,\n",
        "                    partial_y_train,\n",
        "                    epochs=40,\n",
        "                    batch_size=512,\n",
        "                    validation_data=(x_val, y_val),\n",
        "                    verbose=1)"
      ],
      "execution_count": 14,
      "outputs": [
        {
          "output_type": "stream",
          "text": [
            "/usr/local/lib/python3.6/dist-packages/tensorflow/python/ops/gradients_impl.py:112: UserWarning: Converting sparse IndexedSlices to a dense Tensor of unknown shape. This may consume a large amount of memory.\n",
            "  \"Converting sparse IndexedSlices to a dense Tensor of unknown shape. \"\n"
          ],
          "name": "stderr"
        },
        {
          "output_type": "stream",
          "text": [
            "Train on 15000 samples, validate on 10000 samples\n",
            "Epoch 1/40\n",
            "15000/15000 [==============================] - 1s 70us/step - loss: 0.6923 - acc: 0.5357 - val_loss: 0.6907 - val_acc: 0.5567\n",
            "Epoch 2/40\n",
            "15000/15000 [==============================] - 0s 17us/step - loss: 0.6864 - acc: 0.6046 - val_loss: 0.6805 - val_acc: 0.6935\n",
            "Epoch 3/40\n",
            "15000/15000 [==============================] - 0s 17us/step - loss: 0.6685 - acc: 0.7456 - val_loss: 0.6576 - val_acc: 0.7536\n",
            "Epoch 4/40\n",
            "15000/15000 [==============================] - 0s 18us/step - loss: 0.6373 - acc: 0.7763 - val_loss: 0.6238 - val_acc: 0.7673\n",
            "Epoch 5/40\n",
            "15000/15000 [==============================] - 0s 18us/step - loss: 0.5942 - acc: 0.8009 - val_loss: 0.5794 - val_acc: 0.7967\n",
            "Epoch 6/40\n",
            "15000/15000 [==============================] - 0s 18us/step - loss: 0.5437 - acc: 0.8232 - val_loss: 0.5322 - val_acc: 0.8173\n",
            "Epoch 7/40\n",
            "15000/15000 [==============================] - 0s 18us/step - loss: 0.4913 - acc: 0.8454 - val_loss: 0.4862 - val_acc: 0.8333\n",
            "Epoch 8/40\n",
            "15000/15000 [==============================] - 0s 17us/step - loss: 0.4425 - acc: 0.8602 - val_loss: 0.4456 - val_acc: 0.8444\n",
            "Epoch 9/40\n",
            "15000/15000 [==============================] - 0s 18us/step - loss: 0.4005 - acc: 0.8719 - val_loss: 0.4121 - val_acc: 0.8529\n",
            "Epoch 10/40\n",
            "15000/15000 [==============================] - 0s 18us/step - loss: 0.3646 - acc: 0.8827 - val_loss: 0.3854 - val_acc: 0.8592\n",
            "Epoch 11/40\n",
            "15000/15000 [==============================] - 0s 18us/step - loss: 0.3353 - acc: 0.8904 - val_loss: 0.3662 - val_acc: 0.8638\n",
            "Epoch 12/40\n",
            "15000/15000 [==============================] - 0s 17us/step - loss: 0.3114 - acc: 0.8961 - val_loss: 0.3473 - val_acc: 0.8704\n",
            "Epoch 13/40\n",
            "15000/15000 [==============================] - 0s 18us/step - loss: 0.2892 - acc: 0.9039 - val_loss: 0.3343 - val_acc: 0.8739\n",
            "Epoch 14/40\n",
            "15000/15000 [==============================] - 0s 18us/step - loss: 0.2707 - acc: 0.9100 - val_loss: 0.3230 - val_acc: 0.8751\n",
            "Epoch 15/40\n",
            "15000/15000 [==============================] - 0s 17us/step - loss: 0.2547 - acc: 0.9134 - val_loss: 0.3145 - val_acc: 0.8787\n",
            "Epoch 16/40\n",
            "15000/15000 [==============================] - 0s 19us/step - loss: 0.2410 - acc: 0.9181 - val_loss: 0.3075 - val_acc: 0.8795\n",
            "Epoch 17/40\n",
            "15000/15000 [==============================] - 0s 17us/step - loss: 0.2275 - acc: 0.9233 - val_loss: 0.3017 - val_acc: 0.8812\n",
            "Epoch 18/40\n",
            "15000/15000 [==============================] - 0s 17us/step - loss: 0.2158 - acc: 0.9271 - val_loss: 0.2971 - val_acc: 0.8824\n",
            "Epoch 19/40\n",
            "15000/15000 [==============================] - 0s 18us/step - loss: 0.2048 - acc: 0.9311 - val_loss: 0.2935 - val_acc: 0.8829\n",
            "Epoch 20/40\n",
            "15000/15000 [==============================] - 0s 19us/step - loss: 0.1951 - acc: 0.9355 - val_loss: 0.2905 - val_acc: 0.8838\n",
            "Epoch 21/40\n",
            "15000/15000 [==============================] - 0s 17us/step - loss: 0.1858 - acc: 0.9397 - val_loss: 0.2885 - val_acc: 0.8845\n",
            "Epoch 22/40\n",
            "15000/15000 [==============================] - 0s 18us/step - loss: 0.1770 - acc: 0.9428 - val_loss: 0.2872 - val_acc: 0.8846\n",
            "Epoch 23/40\n",
            "15000/15000 [==============================] - 0s 17us/step - loss: 0.1692 - acc: 0.9464 - val_loss: 0.2870 - val_acc: 0.8850\n",
            "Epoch 24/40\n",
            "15000/15000 [==============================] - 0s 18us/step - loss: 0.1612 - acc: 0.9498 - val_loss: 0.2859 - val_acc: 0.8855\n",
            "Epoch 25/40\n",
            "15000/15000 [==============================] - 0s 17us/step - loss: 0.1543 - acc: 0.9527 - val_loss: 0.2858 - val_acc: 0.8864\n",
            "Epoch 26/40\n",
            "15000/15000 [==============================] - 0s 17us/step - loss: 0.1473 - acc: 0.9547 - val_loss: 0.2867 - val_acc: 0.8861\n",
            "Epoch 27/40\n",
            "15000/15000 [==============================] - 0s 18us/step - loss: 0.1416 - acc: 0.9575 - val_loss: 0.2879 - val_acc: 0.8862\n",
            "Epoch 28/40\n",
            "15000/15000 [==============================] - 0s 18us/step - loss: 0.1353 - acc: 0.9609 - val_loss: 0.2883 - val_acc: 0.8859\n",
            "Epoch 29/40\n",
            "15000/15000 [==============================] - 0s 17us/step - loss: 0.1297 - acc: 0.9622 - val_loss: 0.2896 - val_acc: 0.8856\n",
            "Epoch 30/40\n",
            "15000/15000 [==============================] - 0s 17us/step - loss: 0.1248 - acc: 0.9635 - val_loss: 0.2911 - val_acc: 0.8850\n",
            "Epoch 31/40\n",
            "15000/15000 [==============================] - 0s 17us/step - loss: 0.1189 - acc: 0.9663 - val_loss: 0.2935 - val_acc: 0.8842\n",
            "Epoch 32/40\n",
            "15000/15000 [==============================] - 0s 17us/step - loss: 0.1144 - acc: 0.9679 - val_loss: 0.2959 - val_acc: 0.8847\n",
            "Epoch 33/40\n",
            "15000/15000 [==============================] - 0s 17us/step - loss: 0.1090 - acc: 0.9703 - val_loss: 0.2985 - val_acc: 0.8844\n",
            "Epoch 34/40\n",
            "15000/15000 [==============================] - 0s 17us/step - loss: 0.1047 - acc: 0.9715 - val_loss: 0.3017 - val_acc: 0.8839\n",
            "Epoch 35/40\n",
            "15000/15000 [==============================] - 0s 16us/step - loss: 0.1007 - acc: 0.9731 - val_loss: 0.3038 - val_acc: 0.8837\n",
            "Epoch 36/40\n",
            "15000/15000 [==============================] - 0s 17us/step - loss: 0.0960 - acc: 0.9755 - val_loss: 0.3072 - val_acc: 0.8836\n",
            "Epoch 37/40\n",
            "15000/15000 [==============================] - 0s 17us/step - loss: 0.0923 - acc: 0.9765 - val_loss: 0.3105 - val_acc: 0.8824\n",
            "Epoch 38/40\n",
            "15000/15000 [==============================] - 0s 17us/step - loss: 0.0889 - acc: 0.9777 - val_loss: 0.3151 - val_acc: 0.8814\n",
            "Epoch 39/40\n",
            "15000/15000 [==============================] - 0s 17us/step - loss: 0.0849 - acc: 0.9793 - val_loss: 0.3178 - val_acc: 0.8816\n",
            "Epoch 40/40\n",
            "15000/15000 [==============================] - 0s 17us/step - loss: 0.0812 - acc: 0.9810 - val_loss: 0.3214 - val_acc: 0.8817\n"
          ],
          "name": "stdout"
        }
      ]
    },
    {
      "metadata": {
        "id": "zOMKywn4zReN",
        "colab_type": "code",
        "colab": {
          "base_uri": "https://localhost:8080/",
          "height": 54
        },
        "outputId": "c782930f-456f-4e71-f73e-680009357717"
      },
      "cell_type": "code",
      "source": [
        "results = model.evaluate(test_data, test_labels)\n",
        "\n",
        "print(results)"
      ],
      "execution_count": 15,
      "outputs": [
        {
          "output_type": "stream",
          "text": [
            "25000/25000 [==============================] - 1s 53us/step\n",
            "[0.3425382983636856, 0.87048]\n"
          ],
          "name": "stdout"
        }
      ]
    },
    {
      "metadata": {
        "id": "VcvSXvhp-llb",
        "colab_type": "code",
        "colab": {
          "base_uri": "https://localhost:8080/",
          "height": 35
        },
        "outputId": "2e968bd5-aa2a-40c9-f38a-ef0e8c8e2661"
      },
      "cell_type": "code",
      "source": [
        "history_dict = history.history\n",
        "history_dict.keys()"
      ],
      "execution_count": 16,
      "outputs": [
        {
          "output_type": "execute_result",
          "data": {
            "text/plain": [
              "dict_keys(['val_loss', 'val_acc', 'loss', 'acc'])"
            ]
          },
          "metadata": {
            "tags": []
          },
          "execution_count": 16
        }
      ]
    },
    {
      "metadata": {
        "id": "nGoYf2Js-lle",
        "colab_type": "code",
        "colab": {
          "base_uri": "https://localhost:8080/",
          "height": 376
        },
        "outputId": "60921a82-e59c-498d-ee59-e090f0b7030d"
      },
      "cell_type": "code",
      "source": [
        "import matplotlib.pyplot as plt\n",
        "\n",
        "acc = history_dict['acc']\n",
        "val_acc = history_dict['val_acc']\n",
        "loss = history_dict['loss']\n",
        "val_loss = history_dict['val_loss']\n",
        "\n",
        "epochs = range(1, len(acc) + 1)\n",
        "\n",
        "\n",
        "plt.plot(epochs, loss, 'bo', label='Training loss')\n",
        "\n",
        "plt.plot(epochs, val_loss, 'b', label='Validation loss')\n",
        "plt.title('Training and validation loss')\n",
        "plt.xlabel('Epochs')\n",
        "plt.ylabel('Loss')\n",
        "plt.legend()\n",
        "\n",
        "plt.show()"
      ],
      "execution_count": 17,
      "outputs": [
        {
          "output_type": "display_data",
          "data": {
            "image/png": "[encoded data removed]",
            "text/plain": [
              "<Figure size 576x396 with 1 Axes>"
            ]
          },
          "metadata": {
            "tags": []
          }
        }
      ]
    },
    {
      "metadata": {
        "id": "6hXx-xOv-llh",
        "colab_type": "code",
        "colab": {
          "base_uri": "https://localhost:8080/",
          "height": 376
        },
        "outputId": "bc26286b-004a-404d-9917-7402980fcebf"
      },
      "cell_type": "code",
      "source": [
        "plt.clf()   \n",
        "\n",
        "plt.plot(epochs, acc, 'bo', label='Training acc')\n",
        "plt.plot(epochs, val_acc, 'b', label='Validation acc')\n",
        "plt.title('Training and validation accuracy')\n",
        "plt.xlabel('Epochs')\n",
        "plt.ylabel('Accuracy')\n",
        "plt.legend()\n",
        "\n",
        "plt.show()"
      ],
      "execution_count": 18,
      "outputs": [
        {
          "output_type": "display_data",
          "data": {
            "image/png": "[encoded data removed]",
            "text/plain": [
              "<Figure size 576x396 with 1 Axes>"
            ]
          },
          "metadata": {
            "tags": []
          }
        }
      ]
    }
  ]
}